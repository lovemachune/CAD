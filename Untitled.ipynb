{
 "cells": [
  {
   "cell_type": "code",
   "execution_count": 4,
   "metadata": {},
   "outputs": [],
   "source": [
    "import matplotlib.pyplot as plt\n",
    "import matplotlib.lines as mlines\n",
    "import numpy as np\n",
    "import pandas as pd\n",
    "import math \n",
    "from matplotlib import patches"
   ]
  },
  {
   "cell_type": "code",
   "execution_count": 9,
   "metadata": {},
   "outputs": [
    {
     "name": "stdout",
     "output_type": "stream",
     "text": [
      "    start_x  start_y    end_x   end_y\n",
      "0        12  -7.0000  12.0000 -8.0000\n",
      "1        11  -9.0000  10.0000 -9.0000\n",
      "2         9  -8.0000   9.0000 -7.0000\n",
      "3         9  -7.0000   2.0000 -7.0000\n",
      "4         2  -7.0000   2.0000 -8.0000\n",
      "5         1  -9.0000   0.0000 -9.0000\n",
      "6        -1  -8.0000  -1.0000 -6.4142\n",
      "7        -1  -6.4142  -2.7071 -4.7071\n",
      "8        -3  -4.0000  -3.0000  0.0000\n",
      "9        -2   1.0000  -1.0000  1.0000\n",
      "10       -1   1.0000  -1.0000  6.0000\n",
      "11        0   7.0000  12.0000  7.0000\n",
      "12       13   6.0000  13.0000  1.0000\n",
      "13       13   1.0000  15.0000  1.0000\n",
      "14       16   0.0000  16.0000 -4.0000\n",
      "15       13  -7.0000  12.0000 -7.0000\n",
      "   start_x  start_y  end_x  end_y  center_x  center_y   radius  direction\n",
      "0  12.0000  -8.0000     11     -9        11        -8  1.00000          0\n",
      "1  10.0000  -9.0000      9     -8        10        -8  1.00000          0\n",
      "2   2.0000  -8.0000      1     -9         1        -8  1.00000          0\n",
      "3   0.0000  -9.0000     -1     -8         0        -8  1.00000          0\n",
      "4  -2.7071  -4.7071     -3     -4        -2        -4  0.99999          0\n",
      "5  -3.0000   0.0000     -2      1        -2         0  1.00000          0\n",
      "6  -1.0000   6.0000      0      7         0         6  1.00000          0\n",
      "7  12.0000   7.0000     13      6        12         6  1.00000          0\n",
      "8  15.0000   1.0000     16      0        15         0  1.00000          0\n",
      "9  16.0000  -4.0000     13     -7        13        -4  3.00000          0\n"
     ]
    }
   ],
   "source": [
    "lines = pd.read_csv('Q1_line.csv')\n",
    "arcs = pd.read_csv('Q1_arc.csv')  \n",
    "print(lines) \n",
    "print(arcs) "
   ]
  },
  {
   "cell_type": "code",
   "execution_count": 10,
   "metadata": {},
   "outputs": [
    {
     "data": {
      "image/png": "[encoded data removed]",
      "text/plain": [
       "<Figure size 432x288 with 1 Axes>"
      ]
     },
     "metadata": {
      "needs_background": "light"
     },
     "output_type": "display_data"
    }
   ],
   "source": [
    "plt.plot([lines.start_x,lines.end_x],[lines.start_y,lines.end_y])\n",
    "for r in range(0,arcs.shape[0]):\n",
    "    if(arcs.start_x[r] > arcs.end_x[r]):\n",
    "        if(arcs.direction[r] == 0):\n",
    "            theta = np.arange(np.pi, 2*np.pi, 0.01)\n",
    "        else:\n",
    "            theta = np.arange(0, np.pi, 0.01)\n",
    "    if(arcs.start_x[r] < arcs.end_x[r]):\n",
    "        if(arcs.direction[r] == 0):\n",
    "            theta = np.arange(0, np.pi, 0.01)\n",
    "        else:\n",
    "            theta = np.arange(np.pi, 2*np.pi, 0.01)\n",
    "    if(arcs.start_y[r] > arcs.end_y[r]):\n",
    "        if(arcs.direction[r] == 0):\n",
    "            theta = np.arange(3*np.pi/2, 5*np.pi/2, 0.01)\n",
    "        else:\n",
    "            theta = np.arange(np.pi/2, 3*np.pi/2, 0.01)\n",
    "    if(arcs.start_y[r] < arcs.end_y[r]):\n",
    "        if(arcs.direction[r] == 0):\n",
    "            theta = np.arange(np.pi/2, 3*np.pi/2, 0.01)\n",
    "        else:\n",
    "            theta = np.arange(3*np.pi/2, 3*np.pi, 0.01)\n",
    "    \n",
    "    x = arcs.center_x[r] + arcs.radius[r] * np.cos(theta)\n",
    "    y = arcs.center_y[r] + arcs.radius[r] * np.sin(theta)\n",
    "    plt.plot(x,y)\n",
    "    \n",
    "'''    \n",
    "x1 = max(lines.start_x)\n",
    "y1 = max(lines.start_y)\n",
    "x2 = min(lines.end_x)\n",
    "y2 = min(lines.end_y)\n",
    "\n",
    "max_x = max([x1,x2])\n",
    "min_x = min([x1,x2])\n",
    "\n",
    "max_y = max([y1,y2])\n",
    "min_y = min([y1,y2])\n",
    "\n",
    "plt.plot([min_x, max_x], [max_y, max_y])\n",
    "plt.plot([min_x, max_x], [min_y, min_y])\n",
    "plt.plot([min_x, min_x], [min_y, max_y])\n",
    "plt.plot([max_x, max_x], [min_y, max_y])\n",
    "\n",
    "print(max_x)\n",
    "print(min_x)\n",
    "print(max_y)\n",
    "print(min_y)\n",
    "'''\n",
    "\n",
    "plt.plot([])\n",
    "plt.show()"
   ]
  },
  {
   "cell_type": "code",
   "execution_count": 85,
   "metadata": {},
   "outputs": [
    {
     "data": {
      "text/plain": [
       "-26"
      ]
     },
     "execution_count": 85,
     "metadata": {},
     "output_type": "execute_result"
    }
   ],
   "source": [
    "a = max(lines.start_x)\n",
    "b = max(lines.start_y)\n",
    "aa = max(lines.end_x)\n",
    "bb = max(lines.end_y)\n",
    "\n",
    "max([a,aa])"
   ]
  },
  {
   "cell_type": "code",
   "execution_count": null,
   "metadata": {},
   "outputs": [],
   "source": []
  }
 ],
 "metadata": {
  "kernelspec": {
   "display_name": "Python 3",
   "language": "python",
   "name": "python3"
  },
  "language_info": {
   "codemirror_mode": {
    "name": "ipython",
    "version": 3
   },
   "file_extension": ".py",
   "mimetype": "text/x-python",
   "name": "python",
   "nbconvert_exporter": "python",
   "pygments_lexer": "ipython3",
   "version": "3.8.3rc1"
  }
 },
 "nbformat": 4,
 "nbformat_minor": 4
}
